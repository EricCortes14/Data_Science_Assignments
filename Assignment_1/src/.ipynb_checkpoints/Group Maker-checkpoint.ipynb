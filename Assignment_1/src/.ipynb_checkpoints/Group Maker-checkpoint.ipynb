{
 "cells": [
  {
   "cell_type": "markdown",
   "metadata": {},
   "source": [
    "# Group Maker"
   ]
  },
  {
   "cell_type": "code",
   "execution_count": 20,
   "metadata": {},
   "outputs": [],
   "source": [
    "import csv\n",
    "\n",
    "#This method obtains the desired data from a file\n",
    "def obtainData (dataFile, column):\n",
    "    \n",
    "    #List of the data\n",
    "    dataList = []\n",
    "    \n",
    "    #Open file as a tsvfile\n",
    "    with open(dataFile) as tsvfile:\n",
    "        \n",
    "        #Use csv reader to parse through file with specified delimiter\n",
    "        tsvReader = csv.reader(tsvfile, delimiter = '\\t')\n",
    "        next(tsvReader) \n",
    "            \n",
    "        #Loop to traverse line by line the .tsv file\n",
    "        for line in tsvReader:\n",
    "            \n",
    "            #Obtain next data point and cast as a float\n",
    "            data = line[column]\n",
    "                \n",
    "            #Append desired data to the dataList\n",
    "            dataList.append(data)\n",
    "            \n",
    "    #Return the data list   \n",
    "    return dataList"
   ]
  },
  {
   "cell_type": "code",
   "execution_count": 21,
   "metadata": {},
   "outputs": [],
   "source": [
    "import random\n",
    "\n",
    "#method to make the groups\n",
    "def makeGroups (names, numberOfGroups):\n",
    "    \n",
    "    #shuffle names\n",
    "    random.shuffle(names)\n",
    "    \n",
    "    #return list of groups\n",
    "    return[names[i::numberOfGroups] for i in range(numberOfGroups)]"
   ]
  },
  {
   "cell_type": "code",
   "execution_count": 22,
   "metadata": {},
   "outputs": [
    {
     "name": "stdout",
     "output_type": "stream",
     "text": [
      "Group 1 : ['Amulya Yadagani', 'Jason Manning', 'Mustafa Dere', 'Solomon Berhe', 'Ali Altamimi', 'Harika Cherukuri', 'Rashmi Hassan Udaya Kumar'] \n",
      "\n",
      "Group 2 : ['Tingyu Shi', 'Nadia Doudou', 'Nikitha Narsing', 'Sadhana Thummalapenta', 'Serena Wisnewski', 'Quinn Tjin-a-soe', 'Raiana Zaman'] \n",
      "\n",
      "Group 3 : ['Alex Penaloza', 'Sanam Khalili', 'Christopher Brantley', 'Shravya Muttineni', 'Tyler Wallschleger', 'Katelynn Urgitus', 'Carrie Stott'] \n",
      "\n",
      "Group 4 : ['Andrew Kawabata', 'Ritu Joshi', 'Harinderveer Badesha', 'Himaja Avula', 'Amantii Samson', 'Xinrui Zhang', 'Vyankteshprasad Sathe'] \n",
      "\n",
      "Group 5 : ['Pragna Tarali Talluri', 'Samhitha Kachapuram', 'Renhua Guo', 'Peter Yuan', 'Francis Perez', 'Isaac Taylor', 'Jamison Valentine'] \n",
      "\n"
     ]
    }
   ],
   "source": [
    "import random\n",
    "import os\n",
    "\n",
    "#obtain names\n",
    "names = obtainData(\"C:\\\\Users\\\\tanya\\\\Desktop\\\\New folder\\\\Assignment_1\\\\data\\\\fall-20-students.tsv\", 0)\n",
    "\n",
    "#obtain number of groups\n",
    "numberOfGroups = 5\n",
    "\n",
    "#call make groups function\n",
    "groups = makeGroups(names, numberOfGroups)\n",
    "\n",
    "#print groups\n",
    "for x in range(1, numberOfGroups + 1):\n",
    "    print(\"Group\", x, \":\", groups[x - 1], \"\\n\")"
   ]
  }
 ],
 "metadata": {
  "kernelspec": {
   "display_name": "Python 3",
   "language": "python",
   "name": "python3"
  },
  "language_info": {
   "codemirror_mode": {
    "name": "ipython",
    "version": 3
   },
   "file_extension": ".py",
   "mimetype": "text/x-python",
   "name": "python",
   "nbconvert_exporter": "python",
   "pygments_lexer": "ipython3",
   "version": "3.7.4"
  }
 },
 "nbformat": 4,
 "nbformat_minor": 4
}
